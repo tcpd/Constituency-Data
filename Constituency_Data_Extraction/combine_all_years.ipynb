{
 "cells": [
  {
   "cell_type": "code",
   "execution_count": 32,
   "id": "cec43492",
   "metadata": {},
   "outputs": [],
   "source": [
    "import os\n",
    "import pandas as pd"
   ]
  },
  {
   "cell_type": "code",
   "execution_count": 33,
   "id": "7f5bb28f",
   "metadata": {},
   "outputs": [],
   "source": [
    "tar_folder = \"Parsed_Data\"\n",
    "tar_state = \"Goa\""
   ]
  },
  {
   "cell_type": "code",
   "execution_count": 34,
   "id": "7f64d6f3",
   "metadata": {},
   "outputs": [],
   "source": [
    "tar_folder_path = os.path.join(\"Parsed_Data\", \"Goa\")"
   ]
  },
  {
   "cell_type": "code",
   "execution_count": 35,
   "id": "5b5ec4d1",
   "metadata": {},
   "outputs": [],
   "source": [
    "tar_files = os.listdir(tar_folder_path)"
   ]
  },
  {
   "cell_type": "code",
   "execution_count": 36,
   "id": "457661b3",
   "metadata": {},
   "outputs": [],
   "source": [
    "dfs = list()\n",
    "for file in tar_files:\n",
    "    path = os.path.join(tar_folder_path, file)\n",
    "    year = path.split(\"/\")[-1].split(\"_\")[-1].split(\".\")[0]\n",
    "    tmp_df = pd.read_csv(path)\n",
    "    tmp_df['Year'] = year\n",
    "    tmp_df['Election_Type'] = 'AE'\n",
    "    dfs.append(tmp_df)"
   ]
  },
  {
   "cell_type": "code",
   "execution_count": 37,
   "id": "db80567c",
   "metadata": {},
   "outputs": [],
   "source": [
    "out_df = pd.concat(dfs)"
   ]
  },
  {
   "cell_type": "code",
   "execution_count": 39,
   "id": "ab3282ce",
   "metadata": {},
   "outputs": [],
   "source": [
    "merge_with = {\n",
    "    'Dates_DATE_COUNTING' : None, \n",
    "    'Dates_DATE_DECLARATION OF RESULT' : None,\n",
    "    'Candidates_Info_NOMINATION REJECTED_MEN' : 'Candidates_Info_REJECTED_MEN',\n",
    "    'Candidates_Info_NOMINATION REJECTED_WOMEN' : 'Candidates_Info_REJECTED_WOMEN',\n",
    "    'Candidates_Info_NOMINATION REJECTED_TOTAL': 'Candidates_Info_REJECTED_TOTAL', \n",
    "    'Voters_Info_PROXY_MEN' : None,\n",
    "    'Voters_Info_PROXY_WOMEN' : None, \n",
    "    'Voters_Info_PROXY_TOTAL' : None,\n",
    "    'Votes_Info_REJECTED VOTES_VALUE' : 'Votes_Info_REJECTED_VALUE',\n",
    "    'Votes_Info_VOTES NOT RETREIVED FROM EVM_VALUE' : None,\n",
    "    'Votes_Info_TOTAL VALID VOTES POLLED_VALUE' : 'Votes_Info_VALID_VALUE',\n",
    "    'Votes_Info_TENDERED VOTES_VALUE' : 'Votes_Info_TENDERED_VALUE',\n",
    "    'Candidates_Info_NOMINATION FILED_MEN' : 'Candidates_Info_NOMINATED_MEN',\n",
    "    'Candidates_Info_NOMINATION FILED_WOMEN' : 'Candidates_Info_NOMINATED_WOMEN',\n",
    "    'Candidates_Info_NOMINATION FILED_OTHERS' : None,\n",
    "    'Candidates_Info_NOMINATION FILED_TOTAL' : 'Candidates_Info_NOMINATED_TOTAL',\n",
    "    'Candidates_Info_NOMINATION REJECTED_OTHERS' : None,\n",
    "    'Candidates_Info_WITHDRAWN_OTHERS' : None, \n",
    "    'Candidates_Info_CONTESTED_OTHERS' : None,\n",
    "    'Candidates_Info_FORFEITED DEPOSIT_OTHERS' : None,\n",
    "    'Electors_Info_GENERAL_OTHERS' : None, \n",
    "    'Electors_Info_SERVICE_OTHERS' : None,\n",
    "    'Electors_Info_TOTAL_OTHERS' : None, \n",
    "    'Voters_Info_GENERAL_OTHERS' : None,\n",
    "    'Voters_Info_PROXY_OTHERS' : None, \n",
    "    'Voters_Info_POSTAL_OTHERS' : None,\n",
    "    'Voters_Info_TOTAL_OTHERS' : None, \n",
    "    'Votes_Info_VOTES NOT RETREIVED_VALUE' : None\n",
    "}"
   ]
  },
  {
   "cell_type": "code",
   "execution_count": 40,
   "id": "e74ca0c7",
   "metadata": {},
   "outputs": [],
   "source": [
    "for src_col, tar_col in merge_with.items():\n",
    "    if(tar_col is None):\n",
    "        continue\n",
    "    tar_rows = ~out_df[src_col].isna()\n",
    "    sanity_check_passed = out_df.loc[tar_rows, tar_col].isna().all()\n",
    "    if(sanity_check_passed):\n",
    "        out_df.loc[tar_rows, tar_col] = out_df.loc[tar_rows, src_col]\n",
    "        out_df = out_df.drop(src_col, axis = 'columns')\n",
    "        \n",
    "    else:\n",
    "        print(f\"error occured with {src_col} -> {tar_col} merge\")"
   ]
  },
  {
   "cell_type": "code",
   "execution_count": 46,
   "id": "d1339887",
   "metadata": {},
   "outputs": [],
   "source": [
    "out_df = out_df.sort_values('Year')"
   ]
  },
  {
   "cell_type": "code",
   "execution_count": 47,
   "id": "d467bc7f",
   "metadata": {},
   "outputs": [],
   "source": [
    "out_df.to_csv(\"ALL_GOA_DATA.csv\", index = False)"
   ]
  }
 ],
 "metadata": {
  "kernelspec": {
   "display_name": "Python 3 (ipykernel)",
   "language": "python",
   "name": "python3"
  },
  "language_info": {
   "codemirror_mode": {
    "name": "ipython",
    "version": 3
   },
   "file_extension": ".py",
   "mimetype": "text/x-python",
   "name": "python",
   "nbconvert_exporter": "python",
   "pygments_lexer": "ipython3",
   "version": "3.9.15"
  }
 },
 "nbformat": 4,
 "nbformat_minor": 5
}
